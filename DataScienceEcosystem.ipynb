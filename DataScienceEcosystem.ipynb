{
  "cells": [
    {
      "cell_type": "markdown",
      "metadata": {
        "id": "h2YDXtyVoxYv"
      },
      "source": [
        "<center>\n",
        "    <img src=\"https://cf-courses-data.s3.us.cloud-object-storage.appdomain.cloud/IBMDeveloperSkillsNetwork-DS0105EN-SkillsNetwork/labs/Module2/images/SN_web_lightmode.png\" width=\"300\" alt=\"cognitiveclass.ai logo\">\n",
        "</center>\n"
      ]
    },
    {
      "cell_type": "markdown",
      "metadata": {
        "id": "BQGB1Vp6oxY3"
      },
      "source": [
        "#### Add your code below following the instructions given in the course\n"
      ]
    },
    {
      "cell_type": "code",
      "execution_count": null,
      "metadata": {
        "id": "3MzRoyNtoxY5"
      },
      "outputs": [],
      "source": [
        "# Exercise 2 prompt: Create a markdown cell with the title Data Science Tools and Ecosystem using Hl style heading.\n",
        "\n",
        "# Data Science Tools and Ecosystem\n",
        "\n"
      ]
    },
    {
      "cell_type": "code",
      "source": [
        "# Exercise 3 prompt: Write an introductory sentence about the notebook such as the follows: In this notebook, Data Science Tools and Ecosystem are summarized.\n",
        "\n",
        "# In this notebook, Data Science Tools and Ecosystem are summarized."
      ],
      "metadata": {
        "id": "parmsEOFvRAl"
      },
      "execution_count": null,
      "outputs": []
    },
    {
      "cell_type": "code",
      "source": [
        "# @title\n",
        "# Exercise 4 prompt: Start the cell with an overview line such as:\n",
        "# Some of the popular languages that Data Scientists use are:\n",
        "# Exercise 4 prompt: Start the cell with an overview line such as:\n",
        "# Some of the popular languages that Data Scientists use are:\n",
        "# Then create an ordered list (i.e. numbered) listing 3 ( or more) commonly used languages for data science.\n",
        "\n",
        "Some of the popular languages that Data Scientists use are:\n",
        "1.  Python\n",
        "2.  R\n",
        "3.  SQL\n",
        "4.  Scala\n",
        "5.  Java\n",
        "6.  C++\n",
        "7.  Julia\n",
        "8.  JavaScript\n",
        "9.  PHP\n",
        "10. Go\n",
        "11. Ruby\n",
        "12. Visual Basic\n",
        "\n",
        "\n",
        "\n"
      ],
      "metadata": {
        "id": "jIvLdvwcwiJd",
        "colab": {
          "base_uri": "https://localhost:8080/",
          "height": 110
        },
        "outputId": "dd60245d-ea25-483e-e1cd-7fcca1dc85c8"
      },
      "execution_count": null,
      "outputs": [
        {
          "output_type": "error",
          "ename": "SyntaxError",
          "evalue": "invalid syntax (<ipython-input-12-4bccbfe67853>, line 5)",
          "traceback": [
            "\u001b[0;36m  File \u001b[0;32m\"<ipython-input-12-4bccbfe67853>\"\u001b[0;36m, line \u001b[0;32m5\u001b[0m\n\u001b[0;31m    Some of the popular languages that Data Scientists use are:\u001b[0m\n\u001b[0m         ^\u001b[0m\n\u001b[0;31mSyntaxError\u001b[0m\u001b[0;31m:\u001b[0m invalid syntax\n"
          ]
        }
      ]
    },
    {
      "cell_type": "code",
      "source": [
        "# Exercise 5 prompt: Create a markdown cell to list data science libraries.\n",
        "# Start the cell with an overview line such as:\n",
        "# Some of the commonly used libraries used by Data Scientists include:\n",
        "```python\n",
        "# Exercise 5 prompt: Create a markdown cell to list data science libraries.\n",
        "# Start the cell with an overview line such as:\n",
        "# Some of the commonly used libraries used by Data Scientists include:\n",
        "# Below this line add an ordered list listing 3 (or more) commonly used libraries in data science.\n",
        "\n",
        "Some of the commonly used libraries used by Data Scientists include:\n",
        "\n",
        "1. Pandas\n",
        "2. NumPy\n",
        "3. Scikit-learn\n",
        "4. TensorFlow\n",
        "5. Keras\n",
        "6. PyTorch\n",
        "7. Matplotlib\n",
        "8. Seaborn\n",
        "9. ggplot2\n",
        "10. caret\n",
        "```\n",
        "\n"
      ],
      "metadata": {
        "id": "3wp-wYAEwxir",
        "colab": {
          "base_uri": "https://localhost:8080/",
          "height": 110
        },
        "outputId": "d932eb35-4b1a-411d-8e59-17a3a6680a3d"
      },
      "execution_count": null,
      "outputs": [
        {
          "output_type": "error",
          "ename": "SyntaxError",
          "evalue": "invalid syntax (<ipython-input-14-01fcf52e7faf>, line 6)",
          "traceback": [
            "\u001b[0;36m  File \u001b[0;32m\"<ipython-input-14-01fcf52e7faf>\"\u001b[0;36m, line \u001b[0;32m6\u001b[0m\n\u001b[0;31m    Some of the commonly used libraries used by Data Scientists include:\u001b[0m\n\u001b[0m         ^\u001b[0m\n\u001b[0;31mSyntaxError\u001b[0m\u001b[0;31m:\u001b[0m invalid syntax\n"
          ]
        }
      ]
    },
    {
      "cell_type": "code",
      "source": [
        "# Exercise 6 prompt: Create a single column table in this cell with the first row containing the header Data Science Tools. The subsequent three rows in the table should indicate three development environment open source tools used in data science.\n",
        "\n",
        "| Data Science Tools |\n",
        "| -------------|\n",
        "| Jupyter Notebook |\n",
        "| RStudio |\n",
        "| Spyder |\n",
        "| RStudio |\n",
        "| Spyder |"
      ],
      "metadata": {
        "id": "9lIaybTvxM11",
        "colab": {
          "base_uri": "https://localhost:8080/",
          "height": 110
        },
        "outputId": "aaaba939-5431-4e08-f1e0-f6ed28d6419a"
      },
      "execution_count": null,
      "outputs": [
        {
          "output_type": "error",
          "ename": "SyntaxError",
          "evalue": "invalid syntax (<ipython-input-24-810d76b4c257>, line 3)",
          "traceback": [
            "\u001b[0;36m  File \u001b[0;32m\"<ipython-input-24-810d76b4c257>\"\u001b[0;36m, line \u001b[0;32m3\u001b[0m\n\u001b[0;31m    | Data Science Tools |\u001b[0m\n\u001b[0m    ^\u001b[0m\n\u001b[0;31mSyntaxError\u001b[0m\u001b[0;31m:\u001b[0m invalid syntax\n"
          ]
        }
      ]
    },
    {
      "cell_type": "code",
      "source": [
        "# Exercise 7 prompt: Add a line in this cell with H3 style heading with text like:\n",
        "# Below are a few examples of evaluating arithmetic expressions in Python.\n",
        "\n",
        "### Below are a few examples of evaluating arithmetic expressions in Python."
      ],
      "metadata": {
        "id": "XVdqYNDZxYkh"
      },
      "execution_count": null,
      "outputs": []
    },
    {
      "cell_type": "code",
      "source": [
        "# Exercise 8 prompt: In this code cell evaluate the expression (3*4)+5.\n",
        "# Insert a comment line before the expression to explain the operation e.g. This a simple arithmetic expression\n",
        "# to mutiply then add integers.\n",
        "# Then execute the cell to ensure the expression returns the expected output of 17.\n",
        "\n",
        "# prompt: In this code cell evaluate the expression (3*4)+5.\n",
        "# Insert a comment line before the expression to explain the operation e.g. This a simple arithmetic expression\n",
        "# to mutiply then add integers.\n",
        "# Then execute the cell to ensure the expression returns the expected output of 17.\n",
        "\n",
        "# This is a simple arithmetic expression to multiply then add integers.\n",
        "expression = (3 * 4) + 5\n",
        "print(expression)\n"
      ],
      "metadata": {
        "colab": {
          "base_uri": "https://localhost:8080/"
        },
        "id": "__djIDbFxgwi",
        "outputId": "371181f8-2528-4c6b-c4cd-1df9f225e4ea"
      },
      "execution_count": null,
      "outputs": [
        {
          "output_type": "stream",
          "name": "stdout",
          "text": [
            "17\n"
          ]
        }
      ]
    },
    {
      "cell_type": "code",
      "source": [
        "# Exercise 9 prompt: In this code cell write an expression that converts 200 minutes into hours.\n",
        "# Insert a comment line before the expression to explain the operation e.g. This will convert 200 minutes to\n",
        "# hours by diving by 60.\n",
        "# Run the cell to evaluate the expression.\n",
        "\n",
        "# This will convert 200 minutes to hours by dividing by 60.\n",
        "expression = 200 / 60\n",
        "print(expression)"
      ],
      "metadata": {
        "colab": {
          "base_uri": "https://localhost:8080/"
        },
        "id": "cjRyKFL5zYCq",
        "outputId": "13363c2c-6b7c-49ce-9796-0f90c8737c22"
      },
      "execution_count": null,
      "outputs": [
        {
          "output_type": "stream",
          "name": "stdout",
          "text": [
            "3.3333333333333335\n"
          ]
        }
      ]
    },
    {
      "cell_type": "code",
      "source": [
        "# Exercise 10 prompt: Below the introduction cell created in Exercise 3, insert a new markdown cell to list the objectives that this notebook covered (i.e. some of the key takeaways from the course). In this new cell start with an introductory line titled: Objectives: in bold font. Then using an unordered list (bullets) indicate 3 to 5 items covered in this notebook, such as List popular languages for Data Science.\n",
        "\n",
        "# Insert a markdown cell to list Objectives.\n",
        "Some of the popular languages that Data Scientists use are:\n",
        "\n",
        "\n",
        "1.  Python\n",
        "2.  R\n",
        "3.  SQL\n",
        "4.  Scala\n",
        "5.  Java\n",
        "6.  C++\n",
        "7.  Julia\n",
        "8.  JavaScript\n",
        "9.  PHP\n",
        "10. Go\n",
        "11. Ruby\n",
        "12. Visual Basic\n",
        "\n",
        " **Objectives:**\n",
        "\n",
        "*   List popular languages for Data Science.\n",
        "*   List commonly used libraries used by Data Scientists.\n",
        "*   Identify development environment open source tools used in data science.\n",
        "*   Provide examples of evaluating arithmetic expressions in Python.\n",
        "*   Convert minutes to hours in Python.\n"
      ],
      "metadata": {
        "id": "l9QVNtgKzs4j",
        "colab": {
          "base_uri": "https://localhost:8080/",
          "height": 110
        },
        "outputId": "56542db0-6bf7-430f-fa1c-b95eb7cdf0e1"
      },
      "execution_count": null,
      "outputs": [
        {
          "output_type": "error",
          "ename": "SyntaxError",
          "evalue": "invalid syntax (<ipython-input-19-d4dbf7de6014>, line 6)",
          "traceback": [
            "\u001b[0;36m  File \u001b[0;32m\"<ipython-input-19-d4dbf7de6014>\"\u001b[0;36m, line \u001b[0;32m6\u001b[0m\n\u001b[0;31m    Some of the popular languages that Data Scientists use are:\u001b[0m\n\u001b[0m         ^\u001b[0m\n\u001b[0;31mSyntaxError\u001b[0m\u001b[0;31m:\u001b[0m invalid syntax\n"
          ]
        }
      ]
    },
    {
      "cell_type": "code",
      "source": [
        "# Exercise 11 prompt: In this markdown cell markdown cell include the following text Author in H2 style heading. Include your name as regular text below the word Author.\n",
        "\n",
        "## Author\n",
        "#Ryan Hughes"
      ],
      "metadata": {
        "id": "gbUZAX-w0QXA"
      },
      "execution_count": 26,
      "outputs": []
    }
  ],
  "metadata": {
    "kernelspec": {
      "display_name": "Python",
      "language": "python",
      "name": "conda-env-python-py"
    },
    "language_info": {
      "name": ""
    },
    "colab": {
      "provenance": []
    }
  },
  "nbformat": 4,
  "nbformat_minor": 0
}